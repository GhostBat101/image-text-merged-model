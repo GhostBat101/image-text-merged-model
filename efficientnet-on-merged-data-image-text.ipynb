{
 "cells": [
  {
   "cell_type": "code",
   "execution_count": 1,
   "id": "e423efdd",
   "metadata": {
    "execution": {
     "iopub.execute_input": "2024-06-28T17:28:43.245311Z",
     "iopub.status.busy": "2024-06-28T17:28:43.244988Z",
     "iopub.status.idle": "2024-06-28T17:29:03.556585Z",
     "shell.execute_reply": "2024-06-28T17:29:03.555594Z"
    },
    "papermill": {
     "duration": 20.321044,
     "end_time": "2024-06-28T17:29:03.559020",
     "exception": false,
     "start_time": "2024-06-28T17:28:43.237976",
     "status": "completed"
    },
    "tags": []
   },
   "outputs": [
    {
     "name": "stdout",
     "output_type": "stream",
     "text": [
      "Collecting torchsummary\r\n",
      "  Downloading torchsummary-1.5.1-py3-none-any.whl.metadata (296 bytes)\r\n",
      "Downloading torchsummary-1.5.1-py3-none-any.whl (2.8 kB)\r\n",
      "Installing collected packages: torchsummary\r\n",
      "Successfully installed torchsummary-1.5.1\r\n"
     ]
    }
   ],
   "source": [
    "!pip install torchsummary\n",
    "import os\n",
    "import sys\n",
    "import torch\n",
    "from torch.utils.data import Dataset, DataLoader, random_split\n",
    "from sklearn.model_selection import train_test_split\n",
    "import torchvision.transforms as transforms\n",
    "from torchvision import models\n",
    "from torch import nn, optim\n",
    "import matplotlib.pyplot as plt\n",
    "from sklearn.metrics import accuracy_score, precision_score, f1_score, confusion_matrix, ConfusionMatrixDisplay\n",
    "import numpy as np\n",
    "import pandas as pd\n",
    "from PIL import Image\n",
    "import seaborn as sns\n",
    "from sklearn.preprocessing import LabelEncoder\n",
    "from torchsummary import summary\n",
    "import json"
   ]
  },
  {
   "cell_type": "code",
   "execution_count": 2,
   "id": "f64b324d",
   "metadata": {
    "_cell_guid": "b1076dfc-b9ad-4769-8c92-a6c4dae69d19",
    "_uuid": "8f2839f25d086af736a60e9eeb907d3b93b6e0e5",
    "execution": {
     "iopub.execute_input": "2024-06-28T17:29:03.571661Z",
     "iopub.status.busy": "2024-06-28T17:29:03.571245Z",
     "iopub.status.idle": "2024-06-28T17:29:03.578914Z",
     "shell.execute_reply": "2024-06-28T17:29:03.578068Z"
    },
    "papermill": {
     "duration": 0.01582,
     "end_time": "2024-06-28T17:29:03.580747",
     "exception": false,
     "start_time": "2024-06-28T17:29:03.564927",
     "status": "completed"
    },
    "tags": []
   },
   "outputs": [],
   "source": [
    "def create_image_dataframe(folder_path):\n",
    "    data = []\n",
    "\n",
    "    # Iterate through each subfolder in the main folder\n",
    "    for subfolder_name in os.listdir(folder_path):\n",
    "        subfolder_path = os.path.join(folder_path, subfolder_name)\n",
    "        \n",
    "        # Ensure it's a directory\n",
    "        if os.path.isdir(subfolder_path):\n",
    "            # Iterate through each image file in the subfolder\n",
    "            for image_name in os.listdir(subfolder_path):\n",
    "                image_path = os.path.join(subfolder_path, image_name)\n",
    "                \n",
    "                try:\n",
    "                    # Open the image file\n",
    "                    image = Image.open(image_path)\n",
    "                    # Resize image to 256x256\n",
    "                    image = image.resize((256, 256))\n",
    "                    # Convert image to greyscale\n",
    "                    image = image.convert('L')\n",
    "                    \n",
    "                    # Append the processed image and its label to the data list\n",
    "                    data.append((image, subfolder_name))\n",
    "                except Exception as e:\n",
    "                    print(f\"Error loading image {image_path}: {e}\")\n",
    "\n",
    "    # Create a DataFrame with columns 'image' and 'label'\n",
    "    df = pd.DataFrame(data, columns=['image', 'label'])\n",
    "\n",
    "    return df"
   ]
  },
  {
   "cell_type": "code",
   "execution_count": 3,
   "id": "09222a05",
   "metadata": {
    "execution": {
     "iopub.execute_input": "2024-06-28T17:29:03.592644Z",
     "iopub.status.busy": "2024-06-28T17:29:03.592344Z",
     "iopub.status.idle": "2024-06-28T17:29:03.599130Z",
     "shell.execute_reply": "2024-06-28T17:29:03.598257Z"
    },
    "papermill": {
     "duration": 0.014921,
     "end_time": "2024-06-28T17:29:03.601065",
     "exception": false,
     "start_time": "2024-06-28T17:29:03.586144",
     "status": "completed"
    },
    "tags": []
   },
   "outputs": [],
   "source": [
    "def summarize_dataframe(df):\n",
    "    # Convert PIL images to a format that can be used in DataFrame operations\n",
    "    df['image'] = df['image'].apply(lambda img: img.tobytes())\n",
    "\n",
    "    # Number of rows in the DataFrame\n",
    "    num_rows = len(df)\n",
    "    \n",
    "    # Unique values for each column\n",
    "    unique_values = df.nunique()\n",
    "    \n",
    "    # Count of instances for each unique value in the 'label' column\n",
    "    value_counts = df['label'].value_counts()\n",
    "    \n",
    "    # Summary of the DataFrame\n",
    "    summary = df.describe(include='all')\n",
    "    \n",
    "    # Display the information\n",
    "    print(\"Number of rows:\", num_rows)\n",
    "    print(\"\\nUnique values for each column:\")\n",
    "    print(unique_values)\n",
    "    print(\"\\nCount of instances for each unique value in the 'label' column:\")\n",
    "    print(value_counts)\n",
    "    print(\"\\nSummary of the DataFrame:\")\n",
    "    print(summary)\n",
    "\n",
    "    # Convert the 'image' column back to PIL images\n",
    "    df['image'] = df['image'].apply(lambda img_bytes: Image.frombytes('L', (256, 256), img_bytes))\n",
    "\n",
    "    return df"
   ]
  },
  {
   "cell_type": "code",
   "execution_count": 4,
   "id": "c764619c",
   "metadata": {
    "execution": {
     "iopub.execute_input": "2024-06-28T17:29:03.612919Z",
     "iopub.status.busy": "2024-06-28T17:29:03.612644Z",
     "iopub.status.idle": "2024-06-28T17:37:41.667033Z",
     "shell.execute_reply": "2024-06-28T17:37:41.666078Z"
    },
    "papermill": {
     "duration": 518.069093,
     "end_time": "2024-06-28T17:37:41.675592",
     "exception": false,
     "start_time": "2024-06-28T17:29:03.606499",
     "status": "completed"
    },
    "tags": []
   },
   "outputs": [
    {
     "data": {
      "text/html": [
       "<div>\n",
       "<style scoped>\n",
       "    .dataframe tbody tr th:only-of-type {\n",
       "        vertical-align: middle;\n",
       "    }\n",
       "\n",
       "    .dataframe tbody tr th {\n",
       "        vertical-align: top;\n",
       "    }\n",
       "\n",
       "    .dataframe thead th {\n",
       "        text-align: right;\n",
       "    }\n",
       "</style>\n",
       "<table border=\"1\" class=\"dataframe\">\n",
       "  <thead>\n",
       "    <tr style=\"text-align: right;\">\n",
       "      <th></th>\n",
       "      <th>image</th>\n",
       "      <th>label</th>\n",
       "    </tr>\n",
       "  </thead>\n",
       "  <tbody>\n",
       "    <tr>\n",
       "      <th>0</th>\n",
       "      <td>&lt;PIL.Image.Image image mode=L size=256x256 at ...</td>\n",
       "      <td>Encapsulated Lesions</td>\n",
       "    </tr>\n",
       "    <tr>\n",
       "      <th>1</th>\n",
       "      <td>&lt;PIL.Image.Image image mode=L size=256x256 at ...</td>\n",
       "      <td>Encapsulated Lesions</td>\n",
       "    </tr>\n",
       "    <tr>\n",
       "      <th>2</th>\n",
       "      <td>&lt;PIL.Image.Image image mode=L size=256x256 at ...</td>\n",
       "      <td>Encapsulated Lesions</td>\n",
       "    </tr>\n",
       "    <tr>\n",
       "      <th>3</th>\n",
       "      <td>&lt;PIL.Image.Image image mode=L size=256x256 at ...</td>\n",
       "      <td>Encapsulated Lesions</td>\n",
       "    </tr>\n",
       "    <tr>\n",
       "      <th>4</th>\n",
       "      <td>&lt;PIL.Image.Image image mode=L size=256x256 at ...</td>\n",
       "      <td>Encapsulated Lesions</td>\n",
       "    </tr>\n",
       "  </tbody>\n",
       "</table>\n",
       "</div>"
      ],
      "text/plain": [
       "                                               image                 label\n",
       "0  <PIL.Image.Image image mode=L size=256x256 at ...  Encapsulated Lesions\n",
       "1  <PIL.Image.Image image mode=L size=256x256 at ...  Encapsulated Lesions\n",
       "2  <PIL.Image.Image image mode=L size=256x256 at ...  Encapsulated Lesions\n",
       "3  <PIL.Image.Image image mode=L size=256x256 at ...  Encapsulated Lesions\n",
       "4  <PIL.Image.Image image mode=L size=256x256 at ...  Encapsulated Lesions"
      ]
     },
     "execution_count": 4,
     "metadata": {},
     "output_type": "execute_result"
    }
   ],
   "source": [
    "folder_path = '/kaggle/input/lung-x-ray-image-clinical-text-dataset/Merged Data (image+text)'\n",
    "df = create_image_dataframe(folder_path)\n",
    "df.head()"
   ]
  },
  {
   "cell_type": "code",
   "execution_count": 5,
   "id": "4daaa39d",
   "metadata": {
    "execution": {
     "iopub.execute_input": "2024-06-28T17:37:41.688508Z",
     "iopub.status.busy": "2024-06-28T17:37:41.687685Z",
     "iopub.status.idle": "2024-06-28T17:37:54.070835Z",
     "shell.execute_reply": "2024-06-28T17:37:54.069993Z"
    },
    "papermill": {
     "duration": 12.392016,
     "end_time": "2024-06-28T17:37:54.073213",
     "exception": false,
     "start_time": "2024-06-28T17:37:41.681197",
     "status": "completed"
    },
    "tags": []
   },
   "outputs": [
    {
     "name": "stdout",
     "output_type": "stream",
     "text": [
      "Number of rows: 80000\n",
      "\n",
      "Unique values for each column:\n",
      "image    80000\n",
      "label        8\n",
      "dtype: int64\n",
      "\n",
      "Count of instances for each unique value in the 'label' column:\n",
      "label\n",
      "Encapsulated Lesions                10000\n",
      "Lower Density                       10000\n",
      "Degenerative Infectious Diseases    10000\n",
      "Normal                              10000\n",
      "Higher Density                      10000\n",
      "Obstructive Pulmonary Diseases      10000\n",
      "Mediastinal Changes                 10000\n",
      "Chest Changes                       10000\n",
      "Name: count, dtype: int64\n",
      "\n",
      "Summary of the DataFrame:\n",
      "                                                    image  \\\n",
      "count                                               80000   \n",
      "unique                                              80000   \n",
      "top     b'\\x06\\x06\\x06\\x06\\x06\\x06\\x06\\x06\\x00\\x00\\x00...   \n",
      "freq                                                    1   \n",
      "\n",
      "                       label  \n",
      "count                  80000  \n",
      "unique                     8  \n",
      "top     Encapsulated Lesions  \n",
      "freq                   10000  \n"
     ]
    }
   ],
   "source": [
    "df = summarize_dataframe(df)"
   ]
  },
  {
   "cell_type": "code",
   "execution_count": 6,
   "id": "5badb453",
   "metadata": {
    "execution": {
     "iopub.execute_input": "2024-06-28T17:37:54.087453Z",
     "iopub.status.busy": "2024-06-28T17:37:54.086832Z",
     "iopub.status.idle": "2024-06-28T17:37:54.100315Z",
     "shell.execute_reply": "2024-06-28T17:37:54.099461Z"
    },
    "papermill": {
     "duration": 0.023024,
     "end_time": "2024-06-28T17:37:54.102747",
     "exception": false,
     "start_time": "2024-06-28T17:37:54.079723",
     "status": "completed"
    },
    "tags": []
   },
   "outputs": [
    {
     "data": {
      "text/html": [
       "<div>\n",
       "<style scoped>\n",
       "    .dataframe tbody tr th:only-of-type {\n",
       "        vertical-align: middle;\n",
       "    }\n",
       "\n",
       "    .dataframe tbody tr th {\n",
       "        vertical-align: top;\n",
       "    }\n",
       "\n",
       "    .dataframe thead th {\n",
       "        text-align: right;\n",
       "    }\n",
       "</style>\n",
       "<table border=\"1\" class=\"dataframe\">\n",
       "  <thead>\n",
       "    <tr style=\"text-align: right;\">\n",
       "      <th></th>\n",
       "      <th>image</th>\n",
       "      <th>label</th>\n",
       "    </tr>\n",
       "  </thead>\n",
       "  <tbody>\n",
       "    <tr>\n",
       "      <th>0</th>\n",
       "      <td>&lt;PIL.Image.Image image mode=L size=256x256 at ...</td>\n",
       "      <td>Encapsulated Lesions</td>\n",
       "    </tr>\n",
       "    <tr>\n",
       "      <th>1</th>\n",
       "      <td>&lt;PIL.Image.Image image mode=L size=256x256 at ...</td>\n",
       "      <td>Encapsulated Lesions</td>\n",
       "    </tr>\n",
       "    <tr>\n",
       "      <th>2</th>\n",
       "      <td>&lt;PIL.Image.Image image mode=L size=256x256 at ...</td>\n",
       "      <td>Encapsulated Lesions</td>\n",
       "    </tr>\n",
       "    <tr>\n",
       "      <th>3</th>\n",
       "      <td>&lt;PIL.Image.Image image mode=L size=256x256 at ...</td>\n",
       "      <td>Encapsulated Lesions</td>\n",
       "    </tr>\n",
       "    <tr>\n",
       "      <th>4</th>\n",
       "      <td>&lt;PIL.Image.Image image mode=L size=256x256 at ...</td>\n",
       "      <td>Encapsulated Lesions</td>\n",
       "    </tr>\n",
       "    <tr>\n",
       "      <th>...</th>\n",
       "      <td>...</td>\n",
       "      <td>...</td>\n",
       "    </tr>\n",
       "    <tr>\n",
       "      <th>79995</th>\n",
       "      <td>&lt;PIL.Image.Image image mode=L size=256x256 at ...</td>\n",
       "      <td>Chest Changes</td>\n",
       "    </tr>\n",
       "    <tr>\n",
       "      <th>79996</th>\n",
       "      <td>&lt;PIL.Image.Image image mode=L size=256x256 at ...</td>\n",
       "      <td>Chest Changes</td>\n",
       "    </tr>\n",
       "    <tr>\n",
       "      <th>79997</th>\n",
       "      <td>&lt;PIL.Image.Image image mode=L size=256x256 at ...</td>\n",
       "      <td>Chest Changes</td>\n",
       "    </tr>\n",
       "    <tr>\n",
       "      <th>79998</th>\n",
       "      <td>&lt;PIL.Image.Image image mode=L size=256x256 at ...</td>\n",
       "      <td>Chest Changes</td>\n",
       "    </tr>\n",
       "    <tr>\n",
       "      <th>79999</th>\n",
       "      <td>&lt;PIL.Image.Image image mode=L size=256x256 at ...</td>\n",
       "      <td>Chest Changes</td>\n",
       "    </tr>\n",
       "  </tbody>\n",
       "</table>\n",
       "<p>80000 rows × 2 columns</p>\n",
       "</div>"
      ],
      "text/plain": [
       "                                                   image                 label\n",
       "0      <PIL.Image.Image image mode=L size=256x256 at ...  Encapsulated Lesions\n",
       "1      <PIL.Image.Image image mode=L size=256x256 at ...  Encapsulated Lesions\n",
       "2      <PIL.Image.Image image mode=L size=256x256 at ...  Encapsulated Lesions\n",
       "3      <PIL.Image.Image image mode=L size=256x256 at ...  Encapsulated Lesions\n",
       "4      <PIL.Image.Image image mode=L size=256x256 at ...  Encapsulated Lesions\n",
       "...                                                  ...                   ...\n",
       "79995  <PIL.Image.Image image mode=L size=256x256 at ...         Chest Changes\n",
       "79996  <PIL.Image.Image image mode=L size=256x256 at ...         Chest Changes\n",
       "79997  <PIL.Image.Image image mode=L size=256x256 at ...         Chest Changes\n",
       "79998  <PIL.Image.Image image mode=L size=256x256 at ...         Chest Changes\n",
       "79999  <PIL.Image.Image image mode=L size=256x256 at ...         Chest Changes\n",
       "\n",
       "[80000 rows x 2 columns]"
      ]
     },
     "execution_count": 6,
     "metadata": {},
     "output_type": "execute_result"
    }
   ],
   "source": [
    "df"
   ]
  },
  {
   "cell_type": "code",
   "execution_count": 7,
   "id": "1a6d2c59",
   "metadata": {
    "execution": {
     "iopub.execute_input": "2024-06-28T17:37:54.117824Z",
     "iopub.status.busy": "2024-06-28T17:37:54.117029Z",
     "iopub.status.idle": "2024-06-28T17:37:54.135380Z",
     "shell.execute_reply": "2024-06-28T17:37:54.134409Z"
    },
    "papermill": {
     "duration": 0.028124,
     "end_time": "2024-06-28T17:37:54.137241",
     "exception": false,
     "start_time": "2024-06-28T17:37:54.109117",
     "status": "completed"
    },
    "tags": []
   },
   "outputs": [],
   "source": [
    "class ImageDataset(Dataset):\n",
    "    def __init__(self, dataframe, transform=None):\n",
    "        self.dataframe = dataframe\n",
    "        self.transform = transform\n",
    "        self.label_encoder = LabelEncoder()\n",
    "        self.dataframe['label'] = self.label_encoder.fit_transform(self.dataframe['label'])\n",
    "\n",
    "    def __len__(self):\n",
    "        return len(self.dataframe)\n",
    "\n",
    "    def __getitem__(self, idx):\n",
    "        image = self.dataframe.iloc[idx, 0]\n",
    "        label = self.dataframe.iloc[idx, 1]\n",
    "\n",
    "        if self.transform:\n",
    "            image = self.transform(image)\n",
    "        \n",
    "        return image, label\n",
    "\n",
    "    def get_labels(self):\n",
    "        return self.label_encoder.classes_\n",
    "\n",
    "    def inverse_transform_labels(self, labels):\n",
    "        return self.label_encoder.inverse_transform(labels)\n",
    "\n",
    "    def decode_label(self, label):\n",
    "        return self.label_encoder.inverse_transform([label])[0]\n",
    "\n",
    "class LossAccuracyPlottingCallback:\n",
    "    def __init__(self):\n",
    "        self.train_losses = []\n",
    "        self.val_losses = []\n",
    "        self.train_accuracies = []\n",
    "        self.val_accuracies = []\n",
    "        self.train_losses_steps = []\n",
    "        self.val_losses_steps = []\n",
    "        self.train_accuracies_steps = []\n",
    "        self.val_accuracies_steps = []\n",
    "\n",
    "    def on_epoch_end(self, train_loss, val_loss, train_accuracy, val_accuracy):\n",
    "        self.train_losses.append(train_loss)\n",
    "        self.val_losses.append(val_loss)\n",
    "        self.train_accuracies.append(train_accuracy)\n",
    "        self.val_accuracies.append(val_accuracy)\n",
    "\n",
    "    def on_step_end(self, train_loss, val_loss, train_accuracy, val_accuracy):\n",
    "        self.train_losses_steps.append(train_loss)\n",
    "        self.val_losses_steps.append(val_loss)\n",
    "        self.train_accuracies_steps.append(train_accuracy)\n",
    "        self.val_accuracies_steps.append(val_accuracy)\n",
    "\n",
    "    def plot_and_save(self):\n",
    "        # Plot and save epoch-wise loss graph\n",
    "        plt.figure()\n",
    "        plt.plot(self.train_losses, label=\"Training Loss (Epochs)\")\n",
    "        plt.plot(self.val_losses, label=\"Validation Loss (Epochs)\")\n",
    "        plt.xlabel(\"Epochs\")\n",
    "        plt.ylabel(\"Loss\")\n",
    "        plt.legend()\n",
    "        plt.title(\"Training and Validation Loss (Epochs)\")\n",
    "        plt.savefig(\"loss_plot_epochs.png\")\n",
    "        plt.close()\n",
    "\n",
    "        # Plot and save epoch-wise accuracy graph\n",
    "        plt.figure()\n",
    "        plt.plot(self.train_accuracies, label=\"Training Accuracy (Epochs)\")\n",
    "        plt.plot(self.val_accuracies, label=\"Validation Accuracy (Epochs)\")\n",
    "        plt.xlabel(\"Epochs\")\n",
    "        plt.ylabel(\"Accuracy\")\n",
    "        plt.legend()\n",
    "        plt.title(\"Training and Validation Accuracy (Epochs)\")\n",
    "        plt.savefig(\"accuracy_plot_epochs.png\")\n",
    "        plt.close()\n",
    "\n",
    "        # Plot and save step-wise loss graph\n",
    "        plt.figure()\n",
    "        plt.plot(self.val_losses_steps, label=\"Validation Loss (Steps)\")\n",
    "        plt.xlabel(\"Steps\")\n",
    "        plt.ylabel(\"Loss\")\n",
    "        plt.legend()\n",
    "        plt.title(\"Training and Validation Loss (Steps)\")\n",
    "        plt.savefig(\"loss_plot_steps.png\")\n",
    "        plt.close()\n",
    "\n",
    "        # Plot and save step-wise accuracy graph\n",
    "        plt.figure()\n",
    "        plt.plot(self.val_accuracies_steps, label=\"Validation Accuracy (Steps)\")\n",
    "        plt.xlabel(\"Steps\")\n",
    "        plt.ylabel(\"Accuracy\")\n",
    "        plt.legend()\n",
    "        plt.title(\"Training and Validation Accuracy (Steps)\")\n",
    "        plt.savefig(\"accuracy_plot_steps.png\")\n",
    "        plt.close()"
   ]
  },
  {
   "cell_type": "code",
   "execution_count": 8,
   "id": "eebef19a",
   "metadata": {
    "execution": {
     "iopub.execute_input": "2024-06-28T17:37:54.150725Z",
     "iopub.status.busy": "2024-06-28T17:37:54.150410Z",
     "iopub.status.idle": "2024-06-28T17:37:54.155460Z",
     "shell.execute_reply": "2024-06-28T17:37:54.154639Z"
    },
    "papermill": {
     "duration": 0.013829,
     "end_time": "2024-06-28T17:37:54.157411",
     "exception": false,
     "start_time": "2024-06-28T17:37:54.143582",
     "status": "completed"
    },
    "tags": []
   },
   "outputs": [],
   "source": [
    "def split_dataset(df, test_size=0.2, val_size=0.3):\n",
    "    train_val_df, test_df = train_test_split(df, test_size=test_size, stratify=df['label'])\n",
    "    train_df, val_df = train_test_split(train_val_df, test_size=val_size, stratify=train_val_df['label'])\n",
    "    \n",
    "    return train_df, val_df, test_df"
   ]
  },
  {
   "cell_type": "code",
   "execution_count": 9,
   "id": "877a037f",
   "metadata": {
    "execution": {
     "iopub.execute_input": "2024-06-28T17:37:54.171999Z",
     "iopub.status.busy": "2024-06-28T17:37:54.171640Z",
     "iopub.status.idle": "2024-06-28T17:37:54.195357Z",
     "shell.execute_reply": "2024-06-28T17:37:54.194475Z"
    },
    "papermill": {
     "duration": 0.033734,
     "end_time": "2024-06-28T17:37:54.197385",
     "exception": false,
     "start_time": "2024-06-28T17:37:54.163651",
     "status": "completed"
    },
    "tags": []
   },
   "outputs": [],
   "source": [
    "def train_model(train_df, val_df, test_df, num_epochs=10, batch_size=32, learning_rate=0.001):\n",
    "    transform = transforms.Compose([\n",
    "        transforms.Resize((256, 256)),\n",
    "        transforms.Grayscale(num_output_channels=3),  # Convert grayscale images to 3 channels\n",
    "        transforms.ToTensor()\n",
    "    ])\n",
    "\n",
    "    train_dataset = ImageDataset(train_df, transform=transform)\n",
    "    val_dataset = ImageDataset(val_df, transform=transform)\n",
    "    test_dataset = ImageDataset(test_df, transform=transform)\n",
    "\n",
    "    train_loader = DataLoader(train_dataset, batch_size=batch_size, shuffle=True)\n",
    "    val_loader = DataLoader(val_dataset, batch_size=batch_size, shuffle=False)\n",
    "    test_loader = DataLoader(test_dataset, batch_size=batch_size, shuffle=False)\n",
    "\n",
    "    device = torch.device('cuda' if torch.cuda.is_available() else 'cpu')\n",
    "    model = models.efficientnet_b0(weights=models.EfficientNet_B0_Weights.IMAGENET1K_V1)\n",
    "    model.classifier[1] = nn.Linear(model.classifier[1].in_features, len(train_dataset.get_labels()))\n",
    "    model = model.to(device)\n",
    "\n",
    "    criterion = nn.CrossEntropyLoss()\n",
    "    optimizer = optim.Adam(model.parameters(), lr=learning_rate)\n",
    "    callback = LossAccuracyPlottingCallback()\n",
    "\n",
    "    best_val_loss = float('inf')\n",
    "    step = 0\n",
    "    \n",
    "    for epoch in range(num_epochs):\n",
    "        model.train()\n",
    "        train_loss = 0.0\n",
    "        train_correct = 0\n",
    "\n",
    "        for images, labels in train_loader:\n",
    "            images, labels = images.to(device), labels.to(device)\n",
    "\n",
    "            optimizer.zero_grad()\n",
    "            outputs = model(images)\n",
    "            loss = criterion(outputs, labels)\n",
    "            loss.backward()\n",
    "            optimizer.step()\n",
    "\n",
    "            train_loss += loss.item() * images.size(0)\n",
    "            _, predicted = torch.max(outputs, 1)\n",
    "            train_correct += (predicted == labels).sum().item()\n",
    "\n",
    "            # Record step-wise metrics\n",
    "            step_loss = loss.item()\n",
    "            step_accuracy = (predicted == labels).float().mean().item()\n",
    "            callback.on_step_end(step_loss, step_loss, step_accuracy, step_accuracy)\n",
    "            step += 1\n",
    "\n",
    "        train_loss /= len(train_loader.dataset)\n",
    "        train_accuracy = train_correct / len(train_loader.dataset)\n",
    "\n",
    "        model.eval()\n",
    "        val_loss = 0.0\n",
    "        val_correct = 0\n",
    "\n",
    "        with torch.no_grad():\n",
    "            for images, labels in val_loader:\n",
    "                images, labels = images.to(device), labels.to(device)\n",
    "                outputs = model(images)\n",
    "                loss = criterion(outputs, labels)\n",
    "                val_loss += loss.item() * images.size(0)\n",
    "                _, predicted = torch.max(outputs, 1)\n",
    "                val_correct += (predicted == labels).sum().item()\n",
    "\n",
    "        val_loss /= len(val_loader.dataset)\n",
    "        val_accuracy = val_correct / len(val_loader.dataset)\n",
    "        \n",
    "        callback.on_epoch_end(train_loss, val_loss, train_accuracy, val_accuracy)\n",
    "\n",
    "        print(f'Epoch {epoch+1}/{num_epochs}, '\n",
    "              f'Train Loss: {train_loss:.4f}, Train Accuracy: {train_accuracy:.4f}, '\n",
    "              f'Validation Loss: {val_loss:.4f}, Validation Accuracy: {val_accuracy:.4f}')\n",
    "\n",
    "        if val_loss < best_val_loss:\n",
    "            best_val_loss = val_loss\n",
    "            torch.save(model.state_dict(), 'best_model.pth')\n",
    "\n",
    "    callback.plot_and_save()\n",
    "\n",
    "    # Save training history\n",
    "    history = {\n",
    "        'train_losses': callback.train_losses,\n",
    "        'val_losses': callback.val_losses,\n",
    "        'train_accuracies': callback.train_accuracies,\n",
    "        'val_accuracies': callback.val_accuracies,\n",
    "        'train_losses_steps': callback.train_losses_steps,\n",
    "        'val_losses_steps': callback.val_losses_steps,\n",
    "        'train_accuracies_steps': callback.train_accuracies_steps,\n",
    "        'val_accuracies_steps': callback.val_accuracies_steps\n",
    "    }\n",
    "\n",
    "    with open('training_history.txt', 'w') as f:\n",
    "        json.dump(history, f)\n",
    "\n",
    "    model.load_state_dict(torch.load('best_model.pth'))\n",
    "    model.eval()\n",
    "\n",
    "    all_labels = []\n",
    "    all_preds = []\n",
    "    \n",
    "    with torch.no_grad():\n",
    "        for images, labels in test_loader:\n",
    "            images, labels = images.to(device), labels.to(device)\n",
    "            outputs = model(images)\n",
    "            _, predicted = torch.max(outputs, 1)\n",
    "            all_labels.extend(labels.cpu().numpy())\n",
    "            all_preds.extend(predicted.cpu().numpy())\n",
    "\n",
    "    accuracy = accuracy_score(all_labels, all_preds)\n",
    "    precision = precision_score(all_labels, all_preds, average='weighted')\n",
    "    f1 = f1_score(all_labels, all_preds, average='weighted')\n",
    "\n",
    "    print(f'Test Accuracy: {accuracy:.4f}')\n",
    "    print(f'Test Precision: {precision:.4f}')\n",
    "    print(f'Test F1 Score: {f1:.4f}')\n",
    "\n",
    "    # Convert numerical labels back to original labels\n",
    "    original_labels = train_dataset.inverse_transform_labels(all_labels)\n",
    "    original_preds = train_dataset.inverse_transform_labels(all_preds)\n",
    "\n",
    "    # Assuming original_labels and original_preds are already defined\n",
    "    cm = confusion_matrix(original_labels, original_preds)\n",
    "    disp = ConfusionMatrixDisplay(confusion_matrix=cm, display_labels=train_dataset.get_labels())\n",
    "\n",
    "    # Adjust the plot size and plot the confusion matrix\n",
    "    plt.figure(figsize=(10, 10))  # Increase figure size if needed\n",
    "    disp.plot(cmap='Blues')\n",
    "\n",
    "    # Rotate the x-axis labels to be vertical\n",
    "    plt.xticks(rotation=90)\n",
    "\n",
    "    # Save the confusion matrix plot with tight layout and high DPI\n",
    "    plt.savefig('confusion_matrix.png', bbox_inches='tight', dpi=300)\n",
    "    plt.show()\n",
    "\n",
    "    return model"
   ]
  },
  {
   "cell_type": "code",
   "execution_count": 10,
   "id": "e284b943",
   "metadata": {
    "execution": {
     "iopub.execute_input": "2024-06-28T17:37:54.211700Z",
     "iopub.status.busy": "2024-06-28T17:37:54.211204Z",
     "iopub.status.idle": "2024-06-28T17:37:54.215734Z",
     "shell.execute_reply": "2024-06-28T17:37:54.214717Z"
    },
    "papermill": {
     "duration": 0.014109,
     "end_time": "2024-06-28T17:37:54.217839",
     "exception": false,
     "start_time": "2024-06-28T17:37:54.203730",
     "status": "completed"
    },
    "tags": []
   },
   "outputs": [],
   "source": [
    "num_epochs=10\n",
    "batch_size=124\n",
    "learning_rate=0.00001"
   ]
  },
  {
   "cell_type": "code",
   "execution_count": 11,
   "id": "c14711e7",
   "metadata": {
    "execution": {
     "iopub.execute_input": "2024-06-28T17:37:54.232567Z",
     "iopub.status.busy": "2024-06-28T17:37:54.231873Z",
     "iopub.status.idle": "2024-06-28T18:36:25.415278Z",
     "shell.execute_reply": "2024-06-28T18:36:25.414278Z"
    },
    "papermill": {
     "duration": 3511.1934,
     "end_time": "2024-06-28T18:36:25.417669",
     "exception": false,
     "start_time": "2024-06-28T17:37:54.224269",
     "status": "completed"
    },
    "tags": []
   },
   "outputs": [
    {
     "name": "stderr",
     "output_type": "stream",
     "text": [
      "Downloading: \"https://download.pytorch.org/models/efficientnet_b0_rwightman-7f5810bc.pth\" to /root/.cache/torch/hub/checkpoints/efficientnet_b0_rwightman-7f5810bc.pth\n",
      "100%|██████████| 20.5M/20.5M [00:00<00:00, 111MB/s] \n"
     ]
    },
    {
     "name": "stdout",
     "output_type": "stream",
     "text": [
      "Epoch 1/10, Train Loss: 1.7564, Train Accuracy: 0.4081, Validation Loss: 1.3058, Validation Accuracy: 0.6189\n",
      "Epoch 2/10, Train Loss: 1.0845, Train Accuracy: 0.6740, Validation Loss: 0.7373, Validation Accuracy: 0.7785\n",
      "Epoch 3/10, Train Loss: 0.6316, Train Accuracy: 0.8210, Validation Loss: 0.3776, Validation Accuracy: 0.8978\n",
      "Epoch 4/10, Train Loss: 0.3582, Train Accuracy: 0.9042, Validation Loss: 0.1985, Validation Accuracy: 0.9463\n",
      "Epoch 5/10, Train Loss: 0.2160, Train Accuracy: 0.9439, Validation Loss: 0.1136, Validation Accuracy: 0.9704\n",
      "Epoch 6/10, Train Loss: 0.1417, Train Accuracy: 0.9625, Validation Loss: 0.0675, Validation Accuracy: 0.9829\n",
      "Epoch 7/10, Train Loss: 0.0962, Train Accuracy: 0.9754, Validation Loss: 0.0423, Validation Accuracy: 0.9894\n",
      "Epoch 8/10, Train Loss: 0.0698, Train Accuracy: 0.9828, Validation Loss: 0.0284, Validation Accuracy: 0.9931\n",
      "Epoch 9/10, Train Loss: 0.0543, Train Accuracy: 0.9863, Validation Loss: 0.0201, Validation Accuracy: 0.9948\n",
      "Epoch 10/10, Train Loss: 0.0418, Train Accuracy: 0.9893, Validation Loss: 0.0154, Validation Accuracy: 0.9962\n",
      "Test Accuracy: 0.9965\n",
      "Test Precision: 0.9965\n",
      "Test F1 Score: 0.9965\n"
     ]
    },
    {
     "data": {
      "text/plain": [
       "<Figure size 1000x1000 with 0 Axes>"
      ]
     },
     "metadata": {},
     "output_type": "display_data"
    },
    {
     "data": {
      "image/png": "[encoded data removed]",
      "text/plain": [
       "<Figure size 640x480 with 2 Axes>"
      ]
     },
     "metadata": {},
     "output_type": "display_data"
    }
   ],
   "source": [
    "train_df, val_df, test_df = split_dataset(df)\n",
    "model = train_model(train_df, val_df, test_df, num_epochs, batch_size, learning_rate)\n",
    "torch.save(model.state_dict(), 'model.pth')"
   ]
  },
  {
   "cell_type": "code",
   "execution_count": 12,
   "id": "40c71632",
   "metadata": {
    "execution": {
     "iopub.execute_input": "2024-06-28T18:36:25.436613Z",
     "iopub.status.busy": "2024-06-28T18:36:25.436252Z",
     "iopub.status.idle": "2024-06-28T18:36:25.513782Z",
     "shell.execute_reply": "2024-06-28T18:36:25.512964Z"
    },
    "papermill": {
     "duration": 0.089457,
     "end_time": "2024-06-28T18:36:25.516001",
     "exception": false,
     "start_time": "2024-06-28T18:36:25.426544",
     "status": "completed"
    },
    "tags": []
   },
   "outputs": [],
   "source": [
    "model.load_state_dict(torch.load('model.pth'))\n",
    "model_eval = model.eval()\n",
    "with open('model_eval.txt', 'w') as f:\n",
    "    # Capture the summary output\n",
    "    old_stdout = sys.stdout\n",
    "    sys.stdout = f\n",
    "    model_eval\n",
    "    # Reset stdout\n",
    "    sys.stdout = old_stdout"
   ]
  },
  {
   "cell_type": "code",
   "execution_count": 13,
   "id": "eaaf4c42",
   "metadata": {
    "execution": {
     "iopub.execute_input": "2024-06-28T18:36:25.535002Z",
     "iopub.status.busy": "2024-06-28T18:36:25.534687Z",
     "iopub.status.idle": "2024-06-28T18:36:25.632379Z",
     "shell.execute_reply": "2024-06-28T18:36:25.631166Z"
    },
    "papermill": {
     "duration": 0.109536,
     "end_time": "2024-06-28T18:36:25.634384",
     "exception": false,
     "start_time": "2024-06-28T18:36:25.524848",
     "status": "completed"
    },
    "tags": []
   },
   "outputs": [
    {
     "name": "stdout",
     "output_type": "stream",
     "text": [
      "Model summary saved to model_summary.txt\n"
     ]
    }
   ],
   "source": [
    "from torchsummary import summary\n",
    "\n",
    "with open('model_summary.txt', 'w') as f:\n",
    "    # Capture the summary output\n",
    "    old_stdout = sys.stdout\n",
    "    sys.stdout = f\n",
    "    summary(model, input_size=(3, 256, 256))\n",
    "    # Reset stdout\n",
    "    sys.stdout = old_stdout\n",
    "\n",
    "print(\"Model summary saved to model_summary.txt\")"
   ]
  },
  {
   "cell_type": "code",
   "execution_count": 14,
   "id": "5d379742",
   "metadata": {
    "execution": {
     "iopub.execute_input": "2024-06-28T18:36:25.653019Z",
     "iopub.status.busy": "2024-06-28T18:36:25.652714Z",
     "iopub.status.idle": "2024-06-28T18:36:37.454444Z",
     "shell.execute_reply": "2024-06-28T18:36:37.453270Z"
    },
    "papermill": {
     "duration": 11.813634,
     "end_time": "2024-06-28T18:36:37.456803",
     "exception": false,
     "start_time": "2024-06-28T18:36:25.643169",
     "status": "completed"
    },
    "tags": []
   },
   "outputs": [],
   "source": [
    "def plot_weights_distribution(model, filename='weights_distribution.png'):\n",
    "    plt.figure(figsize=(10, 5))\n",
    "    for name, param in model.named_parameters():\n",
    "        if 'weight' in name:\n",
    "            plt.hist(param.cpu().detach().numpy().flatten(), bins=50, alpha=0.5)\n",
    "    plt.xlim(-2, 2)\n",
    "    plt.title('Weights Distribution')\n",
    "    plt.xlabel('Weight Value')\n",
    "    plt.ylabel('Frequency')\n",
    "    plt.savefig(filename, bbox_inches='tight')  # Save the plot in PNG format\n",
    "    plt.close()  # Close the plot to free up memory\n",
    "\n",
    "# Assuming model is already defined and trained\n",
    "plot_weights_distribution(model)"
   ]
  },
  {
   "cell_type": "code",
   "execution_count": 15,
   "id": "7a2186cb",
   "metadata": {
    "execution": {
     "iopub.execute_input": "2024-06-28T18:36:37.476117Z",
     "iopub.status.busy": "2024-06-28T18:36:37.475561Z",
     "iopub.status.idle": "2024-06-28T18:36:37.492617Z",
     "shell.execute_reply": "2024-06-28T18:36:37.491830Z"
    },
    "papermill": {
     "duration": 0.028456,
     "end_time": "2024-06-28T18:36:37.494543",
     "exception": false,
     "start_time": "2024-06-28T18:36:37.466087",
     "status": "completed"
    },
    "tags": []
   },
   "outputs": [],
   "source": [
    "for name, param in model.named_parameters():\n",
    "    if param.grad is not None:\n",
    "        if torch.sum(param.grad) == 0:\n",
    "            print(f'Layer {name} has no gradient flow.')"
   ]
  },
  {
   "cell_type": "code",
   "execution_count": null,
   "id": "c10aba32",
   "metadata": {
    "papermill": {
     "duration": 0.008438,
     "end_time": "2024-06-28T18:36:37.511587",
     "exception": false,
     "start_time": "2024-06-28T18:36:37.503149",
     "status": "completed"
    },
    "tags": []
   },
   "outputs": [],
   "source": []
  }
 ],
 "metadata": {
  "kaggle": {
   "accelerator": "nvidiaTeslaT4",
   "dataSources": [
    {
     "datasetId": 5276606,
     "sourceId": 8778977,
     "sourceType": "datasetVersion"
    }
   ],
   "dockerImageVersionId": 30733,
   "isGpuEnabled": true,
   "isInternetEnabled": true,
   "language": "python",
   "sourceType": "notebook"
  },
  "kernelspec": {
   "display_name": "Python 3",
   "language": "python",
   "name": "python3"
  },
  "language_info": {
   "codemirror_mode": {
    "name": "ipython",
    "version": 3
   },
   "file_extension": ".py",
   "mimetype": "text/x-python",
   "name": "python",
   "nbconvert_exporter": "python",
   "pygments_lexer": "ipython3",
   "version": "3.10.13"
  },
  "papermill": {
   "default_parameters": {},
   "duration": 4079.877617,
   "end_time": "2024-06-28T18:36:40.446703",
   "environment_variables": {},
   "exception": null,
   "input_path": "__notebook__.ipynb",
   "output_path": "__notebook__.ipynb",
   "parameters": {},
   "start_time": "2024-06-28T17:28:40.569086",
   "version": "2.5.0"
  }
 },
 "nbformat": 4,
 "nbformat_minor": 5
}
